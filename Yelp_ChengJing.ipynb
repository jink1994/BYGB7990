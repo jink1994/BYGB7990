{
 "cells": [
  {
   "cell_type": "markdown",
   "metadata": {},
   "source": [
    "BeautifulSoup Cheng Jing\n",
    "========"
   ]
  },
  {
   "cell_type": "code",
   "execution_count": 1,
   "metadata": {},
   "outputs": [],
   "source": [
    "#import packages\n",
    "import bs4\n",
    "from bs4 import BeautifulSoup\n",
    "import urllib.request\n",
    "import re\n",
    "import pandas as pd"
   ]
  },
  {
   "cell_type": "code",
   "execution_count": 2,
   "metadata": {},
   "outputs": [],
   "source": [
    "import time\n",
    "import random"
   ]
  },
  {
   "cell_type": "code",
   "execution_count": 38,
   "metadata": {},
   "outputs": [],
   "source": [
    "rank = []\n",
    "name = []\n",
    "rate = []\n",
    "review = []\n",
    "phone = []\n",
    "address = []\n",
    "district = []"
   ]
  },
  {
   "cell_type": "code",
   "execution_count": 4,
   "metadata": {},
   "outputs": [],
   "source": [
    "tag = \"lemon--div__373c0__1mboc largerScrollablePhotos__373c0__3FEIJ arrange__373c0__UHqhV border-color--default__373c0__2oFDT\"\n",
    "right_tag =\"lemon--div__373c0__1mboc container__373c0__19wDx u-padding-l2 border-color--default__373c0__2oFDT text-align--right__373c0__3fmmn\"\n",
    "district_tag = \"lemon--div__373c0__1mboc u-space-b1 border-color--default__373c0__2oFDT\"\n",
    "phone_tag = \"lemon--p__373c0__3Qnnj text__373c0__2pB8f text-color--normal__373c0__K_MKN text-align--right__373c0__3ARv7\""
   ]
  },
  {
   "cell_type": "code",
   "execution_count": 5,
   "metadata": {},
   "outputs": [],
   "source": [
    "def get_next_link(html):  #Search the link of the next page\n",
    "    ourUrl=urllib.request.urlopen(html)\n",
    "    soup=BeautifulSoup(ourUrl,'html.parser')\n",
    "    link = 'https://www.yelp.com/' + soup.find('a',{'class':re.compile('next-link')})['href']\n",
    "    return link"
   ]
  },
  {
   "cell_type": "code",
   "execution_count": 32,
   "metadata": {},
   "outputs": [],
   "source": [
    "def metadata_extract(html):\n",
    "    time.sleep(2.9+3*random.random())   #To avoid getting blocked by Yelp\n",
    "    url = urllib.request.urlopen(html)\n",
    "    soup = BeautifulSoup(url,'html.parser')\n",
    "    content = soup.find_all('div',{'class':tag}) #locate all the search results in one page\n",
    "    for i in range(1,len(content)):              #Collect information separately\n",
    "        try:\n",
    "            rank.append(content[i].find('p').text.split('.\\xa0')[0])\n",
    "        except:\n",
    "            rank.append('None')\n",
    "        try:\n",
    "            name.append(content[i].find('p').text.split('.\\xa0')[1])\n",
    "        except:\n",
    "            name.append('None')\n",
    "        try:\n",
    "            rate.append(content[i].find('div',{'class':re.compile('i-stars')})['aria-label'])\n",
    "        except:\n",
    "            rate.append('None')\n",
    "        try:\n",
    "            review.append(content[i].find('span',{'class':re.compile('reviewCount')}).text)\n",
    "        except:\n",
    "            review.append('None')\n",
    "        try:\n",
    "            phone.append(content[i].find('p',{'class':phone_tag}).text)\n",
    "        except:\n",
    "            phone.append('None')\n",
    "        try:\n",
    "            address.append(content[i].find('address').text)\n",
    "        except:\n",
    "            address.append('None')\n",
    "        try:\n",
    "            district.append(content[i].find('div',{'class':district_tag}).text)\n",
    "        except:\n",
    "            district.append('None')\n",
    "\n",
    "    return rank,name,rate,review,phone,address,district"
   ]
  },
  {
   "cell_type": "code",
   "execution_count": 39,
   "metadata": {
    "scrolled": false
   },
   "outputs": [
    {
     "name": "stdout",
     "output_type": "stream",
     "text": [
      "https://www.yelp.com//search?find_desc=Ice%20Cream&find_loc=10023&start=10\n",
      "https://www.yelp.com//search?find_desc=Ice%20Cream&find_loc=10023&start=20\n",
      "https://www.yelp.com//search?find_desc=Ice%20Cream&find_loc=10023&start=30\n",
      "https://www.yelp.com//search?find_desc=Ice%20Cream&find_loc=10023&start=40\n",
      "https://www.yelp.com//search?find_desc=Ice%20Cream&find_loc=10023&start=50\n",
      "https://www.yelp.com//search?find_desc=Ice%20Cream&find_loc=10023&start=60\n",
      "https://www.yelp.com//search?find_desc=Ice%20Cream&find_loc=10023&start=70\n",
      "https://www.yelp.com//search?find_desc=Ice%20Cream&find_loc=10023&start=80\n",
      "https://www.yelp.com//search?find_desc=Ice%20Cream&find_loc=10023&start=90\n",
      "https://www.yelp.com//search?find_desc=Ice%20Cream&find_loc=10023&start=100\n"
     ]
    }
   ],
   "source": [
    "link='https://www.yelp.com/search?find_desc=Ice%20Cream&find_loc=10023'\n",
    "for count in range(10):\n",
    "    metadata_extract(link)\n",
    "    link = get_next_link(link)\n",
    "    print(link)\n",
    "df = pd.DataFrame({'rank':rank,'name':name,'rate':rate,'review':review,'phone':phone,'address':address,'district':district})\n",
    "df.to_csv('yelp_icecream3.csv',index=False,sep=',')\n"
   ]
  },
  {
   "cell_type": "code",
   "execution_count": 40,
   "metadata": {},
   "outputs": [
    {
     "data": {
      "text/html": [
       "<div>\n",
       "<style scoped>\n",
       "    .dataframe tbody tr th:only-of-type {\n",
       "        vertical-align: middle;\n",
       "    }\n",
       "\n",
       "    .dataframe tbody tr th {\n",
       "        vertical-align: top;\n",
       "    }\n",
       "\n",
       "    .dataframe thead th {\n",
       "        text-align: right;\n",
       "    }\n",
       "</style>\n",
       "<table border=\"1\" class=\"dataframe\">\n",
       "  <thead>\n",
       "    <tr style=\"text-align: right;\">\n",
       "      <th></th>\n",
       "      <th>rank</th>\n",
       "      <th>name</th>\n",
       "      <th>rate</th>\n",
       "      <th>review</th>\n",
       "      <th>phone</th>\n",
       "      <th>address</th>\n",
       "      <th>district</th>\n",
       "    </tr>\n",
       "  </thead>\n",
       "  <tbody>\n",
       "    <tr>\n",
       "      <td>0</td>\n",
       "      <td>1</td>\n",
       "      <td>Emack and Bolio’s</td>\n",
       "      <td>4 star rating</td>\n",
       "      <td>286 reviews</td>\n",
       "      <td>(212) 362-2747</td>\n",
       "      <td>389 Amsterdam Ave</td>\n",
       "      <td>Upper West Side</td>\n",
       "    </tr>\n",
       "    <tr>\n",
       "      <td>1</td>\n",
       "      <td>2</td>\n",
       "      <td>Van Leeuwen Ice Cream</td>\n",
       "      <td>4.5 star rating</td>\n",
       "      <td>23 reviews</td>\n",
       "      <td>(646) 368-9195</td>\n",
       "      <td>253 Columbus Ave</td>\n",
       "      <td>Upper West Side</td>\n",
       "    </tr>\n",
       "    <tr>\n",
       "      <td>2</td>\n",
       "      <td>3</td>\n",
       "      <td>Grom</td>\n",
       "      <td>4 star rating</td>\n",
       "      <td>594 reviews</td>\n",
       "      <td>(212) 974-3444</td>\n",
       "      <td>1796 Broadway</td>\n",
       "      <td>Midtown West</td>\n",
       "    </tr>\n",
       "    <tr>\n",
       "      <td>3</td>\n",
       "      <td>4</td>\n",
       "      <td>Van Leeuwen Ice Cream Truck</td>\n",
       "      <td>3.5 star rating</td>\n",
       "      <td>118 reviews</td>\n",
       "      <td>(718) 701-1630</td>\n",
       "      <td>None</td>\n",
       "      <td>Upper West Side</td>\n",
       "    </tr>\n",
       "    <tr>\n",
       "      <td>4</td>\n",
       "      <td>5</td>\n",
       "      <td>Van Leeuwen Ice Cream</td>\n",
       "      <td>3.5 star rating</td>\n",
       "      <td>121 reviews</td>\n",
       "      <td>(646) 952-0311</td>\n",
       "      <td>448 Amsterdam Ave</td>\n",
       "      <td>Upper West Side</td>\n",
       "    </tr>\n",
       "    <tr>\n",
       "      <td>...</td>\n",
       "      <td>...</td>\n",
       "      <td>...</td>\n",
       "      <td>...</td>\n",
       "      <td>...</td>\n",
       "      <td>...</td>\n",
       "      <td>...</td>\n",
       "      <td>...</td>\n",
       "    </tr>\n",
       "    <tr>\n",
       "      <td>94</td>\n",
       "      <td>96</td>\n",
       "      <td>Parm</td>\n",
       "      <td>3.5 star rating</td>\n",
       "      <td>521 reviews</td>\n",
       "      <td>(212) 776-4921</td>\n",
       "      <td>235 Columbus Ave</td>\n",
       "      <td>Upper West Side</td>\n",
       "    </tr>\n",
       "    <tr>\n",
       "      <td>95</td>\n",
       "      <td>97</td>\n",
       "      <td>Lincoln Ristorante</td>\n",
       "      <td>4 star rating</td>\n",
       "      <td>562 reviews</td>\n",
       "      <td>(212) 359-6500</td>\n",
       "      <td>142 W 65th St</td>\n",
       "      <td>Upper West Side</td>\n",
       "    </tr>\n",
       "    <tr>\n",
       "      <td>96</td>\n",
       "      <td>98</td>\n",
       "      <td>Santa Fe</td>\n",
       "      <td>None</td>\n",
       "      <td>None</td>\n",
       "      <td>(212) 724-0822</td>\n",
       "      <td>72 W 69th St</td>\n",
       "      <td>Upper West Side</td>\n",
       "    </tr>\n",
       "    <tr>\n",
       "      <td>97</td>\n",
       "      <td>99</td>\n",
       "      <td>Sushi Power</td>\n",
       "      <td>None</td>\n",
       "      <td>None</td>\n",
       "      <td>(212) 555-7895</td>\n",
       "      <td>1 Columbus Pl</td>\n",
       "      <td>Hell's Kitchen</td>\n",
       "    </tr>\n",
       "    <tr>\n",
       "      <td>98</td>\n",
       "      <td>100</td>\n",
       "      <td>Bin 71</td>\n",
       "      <td>3.5 star rating</td>\n",
       "      <td>117 reviews</td>\n",
       "      <td>(212) 362-5446</td>\n",
       "      <td>237 Columbus Ave</td>\n",
       "      <td>Upper West Side</td>\n",
       "    </tr>\n",
       "  </tbody>\n",
       "</table>\n",
       "<p>99 rows × 7 columns</p>\n",
       "</div>"
      ],
      "text/plain": [
       "   rank                         name             rate       review  \\\n",
       "0     1            Emack and Bolio’s    4 star rating  286 reviews   \n",
       "1     2        Van Leeuwen Ice Cream  4.5 star rating   23 reviews   \n",
       "2     3                         Grom    4 star rating  594 reviews   \n",
       "3     4  Van Leeuwen Ice Cream Truck  3.5 star rating  118 reviews   \n",
       "4     5        Van Leeuwen Ice Cream  3.5 star rating  121 reviews   \n",
       "..  ...                          ...              ...          ...   \n",
       "94   96                         Parm  3.5 star rating  521 reviews   \n",
       "95   97           Lincoln Ristorante    4 star rating  562 reviews   \n",
       "96   98                     Santa Fe             None         None   \n",
       "97   99                  Sushi Power             None         None   \n",
       "98  100                       Bin 71  3.5 star rating  117 reviews   \n",
       "\n",
       "             phone            address         district  \n",
       "0   (212) 362-2747  389 Amsterdam Ave  Upper West Side  \n",
       "1   (646) 368-9195   253 Columbus Ave  Upper West Side  \n",
       "2   (212) 974-3444      1796 Broadway     Midtown West  \n",
       "3   (718) 701-1630               None  Upper West Side  \n",
       "4   (646) 952-0311  448 Amsterdam Ave  Upper West Side  \n",
       "..             ...                ...              ...  \n",
       "94  (212) 776-4921   235 Columbus Ave  Upper West Side  \n",
       "95  (212) 359-6500      142 W 65th St  Upper West Side  \n",
       "96  (212) 724-0822       72 W 69th St  Upper West Side  \n",
       "97  (212) 555-7895      1 Columbus Pl   Hell's Kitchen  \n",
       "98  (212) 362-5446   237 Columbus Ave  Upper West Side  \n",
       "\n",
       "[99 rows x 7 columns]"
      ]
     },
     "execution_count": 40,
     "metadata": {},
     "output_type": "execute_result"
    }
   ],
   "source": [
    "df"
   ]
  },
  {
   "cell_type": "markdown",
   "metadata": {},
   "source": [
    "# There are 99 records because no.60 record is lost.\n",
    "# Check all the records in file \"yelp_icecream3.csv\""
   ]
  },
  {
   "cell_type": "code",
   "execution_count": 42,
   "metadata": {},
   "outputs": [],
   "source": [
    "df1 = df.groupby('district')"
   ]
  },
  {
   "cell_type": "code",
   "execution_count": 52,
   "metadata": {},
   "outputs": [],
   "source": [
    "list = df1.size()"
   ]
  },
  {
   "cell_type": "code",
   "execution_count": 72,
   "metadata": {},
   "outputs": [
    {
     "data": {
      "text/plain": [
       "district\n",
       "                     2\n",
       "Hell's Kitchen      11\n",
       "Midtown East         9\n",
       "Midtown West         8\n",
       "Theater District     6\n",
       "Upper East Side     11\n",
       "Upper West Side     52\n",
       "dtype: int64"
      ]
     },
     "execution_count": 72,
     "metadata": {},
     "output_type": "execute_result"
    }
   ],
   "source": [
    "list"
   ]
  },
  {
   "cell_type": "code",
   "execution_count": 163,
   "metadata": {},
   "outputs": [
    {
     "data": {
      "image/png": "[encoded data removed]",
      "text/plain": [
       "<Figure size 432x288 with 1 Axes>"
      ]
     },
     "metadata": {
      "needs_background": "light"
     },
     "output_type": "display_data"
    }
   ],
   "source": [
    "import numpy as np\n",
    "import matplotlib.pyplot as plt\n",
    "objects = [\"NONE\",\"Hell's Kitchen\",\"Midtown East\",\"Midtown West\",\"Theater District\",\"Upper East Side\",\"Upper West Side\"]\n",
    "y_pos = np.arange(len(objects))\n",
    "performance = np.array(list)\n",
    "\n",
    "plt.bar(y_pos, performance, align='center', alpha=0.5)\n",
    "plt.xticks(y_pos, objects)\n",
    "plt.ylabel('number of shops')\n",
    "plt.title('Yelp_ice_cream')\n",
    "plt.xticks(rotation=90)\n",
    "plt.show()\n"
   ]
  },
  {
   "cell_type": "markdown",
   "metadata": {},
   "source": [
    "# Upper west side has the biggest amount of shops\n",
    "### \"None\" is the shop without \"district\" value, we should ignore it."
   ]
  },
  {
   "cell_type": "code",
   "execution_count": 84,
   "metadata": {},
   "outputs": [],
   "source": [
    "for i in range(len(df['rate'])):\n",
    "    if df['rate'][i] != None:\n",
    "        df['rate'][i] = df['rate'][i].split(' ')[0]"
   ]
  },
  {
   "cell_type": "code",
   "execution_count": 94,
   "metadata": {},
   "outputs": [],
   "source": [
    "df_monkey = df.copy()"
   ]
  },
  {
   "cell_type": "code",
   "execution_count": 111,
   "metadata": {},
   "outputs": [],
   "source": [
    "df3 = df_monkey[df_monkey['rate'] != \"None\"]"
   ]
  },
  {
   "cell_type": "code",
   "execution_count": 147,
   "metadata": {},
   "outputs": [],
   "source": [
    "df4 = df3.groupby('district').mean()"
   ]
  },
  {
   "cell_type": "code",
   "execution_count": 164,
   "metadata": {},
   "outputs": [
    {
     "data": {
      "text/html": [
       "<div>\n",
       "<style scoped>\n",
       "    .dataframe tbody tr th:only-of-type {\n",
       "        vertical-align: middle;\n",
       "    }\n",
       "\n",
       "    .dataframe tbody tr th {\n",
       "        vertical-align: top;\n",
       "    }\n",
       "\n",
       "    .dataframe thead th {\n",
       "        text-align: right;\n",
       "    }\n",
       "</style>\n",
       "<table border=\"1\" class=\"dataframe\">\n",
       "  <thead>\n",
       "    <tr style=\"text-align: right;\">\n",
       "      <th></th>\n",
       "      <th>rate</th>\n",
       "    </tr>\n",
       "    <tr>\n",
       "      <th>district</th>\n",
       "      <th></th>\n",
       "    </tr>\n",
       "  </thead>\n",
       "  <tbody>\n",
       "    <tr>\n",
       "      <td></td>\n",
       "      <td>4.250000</td>\n",
       "    </tr>\n",
       "    <tr>\n",
       "      <td>Hell's Kitchen</td>\n",
       "      <td>4.000000</td>\n",
       "    </tr>\n",
       "    <tr>\n",
       "      <td>Midtown East</td>\n",
       "      <td>3.944444</td>\n",
       "    </tr>\n",
       "    <tr>\n",
       "      <td>Midtown West</td>\n",
       "      <td>3.937500</td>\n",
       "    </tr>\n",
       "    <tr>\n",
       "      <td>Theater District</td>\n",
       "      <td>3.916667</td>\n",
       "    </tr>\n",
       "    <tr>\n",
       "      <td>Upper East Side</td>\n",
       "      <td>3.681818</td>\n",
       "    </tr>\n",
       "    <tr>\n",
       "      <td>Upper West Side</td>\n",
       "      <td>3.862745</td>\n",
       "    </tr>\n",
       "  </tbody>\n",
       "</table>\n",
       "</div>"
      ],
      "text/plain": [
       "                      rate\n",
       "district                  \n",
       "                  4.250000\n",
       "Hell's Kitchen    4.000000\n",
       "Midtown East      3.944444\n",
       "Midtown West      3.937500\n",
       "Theater District  3.916667\n",
       "Upper East Side   3.681818\n",
       "Upper West Side   3.862745"
      ]
     },
     "execution_count": 164,
     "metadata": {},
     "output_type": "execute_result"
    }
   ],
   "source": [
    "df4"
   ]
  },
  {
   "cell_type": "code",
   "execution_count": null,
   "metadata": {},
   "outputs": [],
   "source": [
    "x=df4\n",
    "plt.plot(x, y, 'r') # 'r' is the color red\n",
    "plt.xlabel('X Axis Title Here')\n",
    "plt.ylabel('Y Axis Title Here')\n",
    "plt.title('String Title Here')\n",
    "plt.show()"
   ]
  },
  {
   "cell_type": "code",
   "execution_count": 143,
   "metadata": {},
   "outputs": [
    {
     "name": "stderr",
     "output_type": "stream",
     "text": [
      "E:\\jesse\\anaconda3\\lib\\site-packages\\ipykernel_launcher.py:1: SettingWithCopyWarning: \n",
      "A value is trying to be set on a copy of a slice from a DataFrame.\n",
      "Try using .loc[row_indexer,col_indexer] = value instead\n",
      "\n",
      "See the caveats in the documentation: http://pandas.pydata.org/pandas-docs/stable/user_guide/indexing.html#returning-a-view-versus-a-copy\n",
      "  \"\"\"Entry point for launching an IPython kernel.\n"
     ]
    }
   ],
   "source": [
    "df3['rate']= df3['rate'].astype(float)"
   ]
  },
  {
   "cell_type": "code",
   "execution_count": 168,
   "metadata": {},
   "outputs": [
    {
     "data": {
      "image/png": "[encoded data removed]",
      "text/plain": [
       "<Figure size 432x288 with 1 Axes>"
      ]
     },
     "metadata": {
      "needs_background": "light"
     },
     "output_type": "display_data"
    },
    {
     "data": {
      "text/plain": [
       "<Figure size 432x288 with 0 Axes>"
      ]
     },
     "metadata": {},
     "output_type": "display_data"
    }
   ],
   "source": [
    "objects = [\"NONE\",\"Hell's Kitchen\",\"Midtown East\",\"Midtown West\",\"Theater District\",\"Upper East Side\",\"Upper West Side\"]\n",
    "y_pos = np.arange(len(objects))\n",
    "performance = np.array(df4['rate'])\n",
    "\n",
    "plt.bar(y_pos, performance, align='center', alpha=0.5)\n",
    "plt.xticks(y_pos, objects)\n",
    "plt.ylabel('avarage rating')\n",
    "plt.title('Yelp_ice_cream')\n",
    "plt.xticks(rotation=90)\n",
    "\n",
    "plt.ylim(3.5, 5)\n",
    "plt.show()"
   ]
  },
  {
   "cell_type": "markdown",
   "metadata": {},
   "source": [
    "# Hell's Kitchen has the highest average rates.\n",
    "### \"None\" is the shop without \"district\" value, we should ignore it."
   ]
  }
 ],
 "metadata": {
  "kernelspec": {
   "display_name": "Python 3",
   "language": "python",
   "name": "python3"
  },
  "language_info": {
   "codemirror_mode": {
    "name": "ipython",
    "version": 3
   },
   "file_extension": ".py",
   "mimetype": "text/x-python",
   "name": "python",
   "nbconvert_exporter": "python",
   "pygments_lexer": "ipython3",
   "version": "3.7.4"
  }
 },
 "nbformat": 4,
 "nbformat_minor": 2
}
